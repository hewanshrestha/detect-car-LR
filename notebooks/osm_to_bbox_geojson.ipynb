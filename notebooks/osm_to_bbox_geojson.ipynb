{
 "cells": [
  {
   "cell_type": "code",
   "execution_count": null,
   "metadata": {},
   "outputs": [],
   "source": [
    "import osmnx as ox\n",
    "import geopandas as gpd\n",
    "import numpy as np\n",
    "import matplotlib.pyplot as plt\n",
    "import warnings\n",
    "import pandas as pd\n",
    "from shapely.ops import transform\n",
    "from functools import partial\n",
    "import pyproj\n",
    "import geojson\n",
    "warnings.filterwarnings(\"ignore\")\n"
   ]
  },
  {
   "cell_type": "code",
   "execution_count": null,
   "metadata": {},
   "outputs": [],
   "source": [
    "osm_file = gpd.read_file('/home/idisc02/Desktop/i2sc/detect-car-LR/data/osm_json/berlin.geojson')"
   ]
  },
  {
   "cell_type": "code",
   "execution_count": null,
   "metadata": {},
   "outputs": [],
   "source": [
    "osm_file[\"geometry\"]"
   ]
  },
  {
   "cell_type": "code",
   "execution_count": null,
   "metadata": {},
   "outputs": [],
   "source": [
    "print(osm_file[\"geometry\"][6])"
   ]
  },
  {
   "cell_type": "code",
   "execution_count": null,
   "metadata": {},
   "outputs": [],
   "source": [
    "osm_file['area'] = osm_file.geometry.area\n",
    "osm_file['area']"
   ]
  },
  {
   "cell_type": "code",
   "execution_count": null,
   "metadata": {},
   "outputs": [],
   "source": [
    "osm_file = osm_file.to_crs(pyproj.CRS.from_epsg(32633))\n",
    "osm_file.crs"
   ]
  },
  {
   "cell_type": "code",
   "execution_count": null,
   "metadata": {},
   "outputs": [],
   "source": [
    "osm_file['area'] = osm_file.geometry.area"
   ]
  },
  {
   "cell_type": "code",
   "execution_count": null,
   "metadata": {},
   "outputs": [],
   "source": [
    "new_osm = osm_file[osm_file['area'] > 10000]"
   ]
  },
  {
   "cell_type": "code",
   "execution_count": null,
   "metadata": {},
   "outputs": [],
   "source": [
    "new_osm = new_osm.to_crs(pyproj.CRS.from_epsg(4326))"
   ]
  },
  {
   "cell_type": "code",
   "execution_count": null,
   "metadata": {},
   "outputs": [],
   "source": [
    "osm_file = osm_file.to_crs(pyproj.CRS.from_epsg(4326))"
   ]
  },
  {
   "cell_type": "code",
   "execution_count": null,
   "metadata": {},
   "outputs": [],
   "source": [
    "new_osm.to_file('new_osm.geojson', driver='GeoJSON')"
   ]
  },
  {
   "cell_type": "code",
   "execution_count": null,
   "metadata": {},
   "outputs": [],
   "source": [
    "print(osm_file.crs)\n",
    "print(new_osm.crs)"
   ]
  },
  {
   "cell_type": "code",
   "execution_count": null,
   "metadata": {},
   "outputs": [],
   "source": [
    "from shapely.geometry import Polygon\n",
    "import geopandas as gpd\n",
    "import matplotlib.pyplot as plt\n",
    "\n",
    "# Load the OSM geojson file\n",
    "file_path = 'new_osm.geojson'\n",
    "gdf = gpd.read_file(file_path)\n",
    "\n",
    "# Iterate through each geometry and plot bounding box\n",
    "for index, row in gdf.iterrows():\n",
    "    geometry = row['geometry']\n",
    "\n",
    "    if geometry.type == 'Polygon':\n",
    "        polygons = [geometry]\n",
    "    elif geometry.type == 'MultiPolygon':\n",
    "        polygons = geometry.geoms\n",
    "    else:\n",
    "        continue\n",
    "    \n",
    "    for polygon in polygons:\n",
    "        min_x, min_y, max_x, max_y = polygon.bounds\n",
    "        fig, ax = plt.subplots()\n",
    "\n",
    "        x, y = polygon.exterior.xy\n",
    "        ax.plot(x, y, color='blue', label='Polygon')\n",
    "\n",
    "        # Plot the bounding box\n",
    "        bbox = plt.Rectangle((min_x, min_y), max_x - min_x, max_y - min_y,\n",
    "                             fill=False, color='red', label='Bounding Box')\n",
    "        ax.add_patch(bbox)\n",
    "\n",
    "        ax.legend()\n",
    "\n",
    "        plt.show()\n",
    "\n",
    "        # Save the bounding box as a GeoJSON file\n",
    "        bbox_geojson = gpd.GeoSeries([Polygon([(min_x, min_y), (max_x, min_y), (max_x, max_y), (min_x, max_y)])])\n",
    "        bbox_geojson.crs = gdf.crs  # Set the same coordinate reference system as the original data\n",
    "        output_path = f'Berlin_Parking/parking_lot_{index}_bbox.geojson'\n",
    "        bbox_geojson.to_file(output_path, driver='GeoJSON')"
   ]
  }
 ],
 "metadata": {
  "language_info": {
   "name": "python"
  },
  "orig_nbformat": 4
 },
 "nbformat": 4,
 "nbformat_minor": 2
}
